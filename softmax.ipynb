{
 "cells": [
  {
   "cell_type": "markdown",
   "metadata": {},
   "source": [
    "# Softmax exercise\n",
    "\n",
    "*Complete and hand in this completed worksheet (including its outputs and any supporting code outside of the worksheet) with your assignment submission. For more details see the [assignments page](http://vision.stanford.edu/teaching/cs231n/assignments.html) on the course website.*\n",
    "\n",
    "This exercise is analogous to the SVM exercise. You will:\n",
    "\n",
    "- implement a fully-vectorized **loss function** for the Softmax classifier\n",
    "- implement the fully-vectorized expression for its **analytic gradient**\n",
    "- **check your implementation** with numerical gradient\n",
    "- use a validation set to **tune the learning rate and regularization** strength\n",
    "- **optimize** the loss function with **SGD**\n",
    "- **visualize** the final learned weights\n"
   ]
  },
  {
   "cell_type": "code",
   "execution_count": 1,
   "metadata": {
    "collapsed": false,
    "scrolled": false
   },
   "outputs": [],
   "source": [
    "import random\n",
    "import numpy as np\n",
    "from cs231n.data_utils import load_CIFAR10\n",
    "import matplotlib.pyplot as plt\n",
    "%matplotlib inline\n",
    "plt.rcParams['figure.figsize'] = (10.0, 8.0) # set default size of plots\n",
    "plt.rcParams['image.interpolation'] = 'nearest'\n",
    "plt.rcParams['image.cmap'] = 'gray'\n",
    "\n",
    "# for auto-reloading extenrnal modules\n",
    "# see http://stackoverflow.com/questions/1907993/autoreload-of-modules-in-ipython\n",
    "%load_ext autoreload\n",
    "%autoreload 2"
   ]
  },
  {
   "cell_type": "code",
   "execution_count": 2,
   "metadata": {
    "collapsed": false,
    "scrolled": false
   },
   "outputs": [
    {
     "name": "stdout",
     "output_type": "stream",
     "text": [
      "Train data shape:  (49000L, 3073L)\n",
      "Train labels shape:  (49000L,)\n",
      "Validation data shape:  (1000L, 3073L)\n",
      "Validation labels shape:  (1000L,)\n",
      "Test data shape:  (1000L, 3073L)\n",
      "Test labels shape:  (1000L,)\n",
      "dev data shape:  (500L, 3073L)\n",
      "dev labels shape:  (500L,)\n"
     ]
    }
   ],
   "source": [
    "def get_CIFAR10_data(num_training=49000, num_validation=1000, num_test=1000, num_dev=500):\n",
    "  \"\"\"\n",
    "  Load the CIFAR-10 dataset from disk and perform preprocessing to prepare\n",
    "  it for the linear classifier. These are the same steps as we used for the\n",
    "  SVM, but condensed to a single function.  \n",
    "  \"\"\"\n",
    "  # Load the raw CIFAR-10 data\n",
    "  cifar10_dir = 'cs231n/datasets/cifar-10-batches-py'\n",
    "  X_train, y_train, X_test, y_test = load_CIFAR10(cifar10_dir)\n",
    "  \n",
    "  # subsample the data\n",
    "  mask = range(num_training, num_training + num_validation)\n",
    "  X_val = X_train[mask]\n",
    "  y_val = y_train[mask]\n",
    "  mask = range(num_training)\n",
    "  X_train = X_train[mask]\n",
    "  y_train = y_train[mask]\n",
    "  mask = range(num_test)\n",
    "  X_test = X_test[mask]\n",
    "  y_test = y_test[mask]\n",
    "  mask = np.random.choice(num_training, num_dev, replace=False)\n",
    "  X_dev = X_train[mask]\n",
    "  y_dev = y_train[mask]\n",
    "  \n",
    "  # Preprocessing: reshape the image data into rows\n",
    "  X_train = np.reshape(X_train, (X_train.shape[0], -1))\n",
    "  X_val = np.reshape(X_val, (X_val.shape[0], -1))\n",
    "  X_test = np.reshape(X_test, (X_test.shape[0], -1))\n",
    "  X_dev = np.reshape(X_dev, (X_dev.shape[0], -1))\n",
    "  \n",
    "  # Normalize the data: subtract the mean image\n",
    "  mean_image = np.mean(X_train, axis = 0)\n",
    "  X_train -= mean_image\n",
    "  X_val -= mean_image\n",
    "  X_test -= mean_image\n",
    "  X_dev -= mean_image\n",
    "  \n",
    "  # add bias dimension and transform into columns\n",
    "  X_train = np.hstack([X_train, np.ones((X_train.shape[0], 1))])\n",
    "  X_val = np.hstack([X_val, np.ones((X_val.shape[0], 1))])\n",
    "  X_test = np.hstack([X_test, np.ones((X_test.shape[0], 1))])\n",
    "  X_dev = np.hstack([X_dev, np.ones((X_dev.shape[0], 1))])\n",
    "  \n",
    "  return X_train, y_train, X_val, y_val, X_test, y_test, X_dev, y_dev\n",
    "\n",
    "\n",
    "# Invoke the above function to get our data.\n",
    "X_train, y_train, X_val, y_val, X_test, y_test, X_dev, y_dev = get_CIFAR10_data()\n",
    "print 'Train data shape: ', X_train.shape\n",
    "print 'Train labels shape: ', y_train.shape\n",
    "print 'Validation data shape: ', X_val.shape\n",
    "print 'Validation labels shape: ', y_val.shape\n",
    "print 'Test data shape: ', X_test.shape\n",
    "print 'Test labels shape: ', y_test.shape\n",
    "print 'dev data shape: ', X_dev.shape\n",
    "print 'dev labels shape: ', y_dev.shape"
   ]
  },
  {
   "cell_type": "markdown",
   "metadata": {},
   "source": [
    "## Softmax Classifier\n",
    "\n",
    "Your code for this section will all be written inside **cs231n/classifiers/softmax.py**. \n"
   ]
  },
  {
   "cell_type": "code",
   "execution_count": 14,
   "metadata": {
    "collapsed": false,
    "scrolled": false
   },
   "outputs": [
    {
     "name": "stdout",
     "output_type": "stream",
     "text": [
      "loss: 2.314956\n",
      "sanity check: 2.302585\n"
     ]
    }
   ],
   "source": [
    "# First implement the naive softmax loss function with nested loops.\n",
    "# Open the file cs231n/classifiers/softmax.py and implement the\n",
    "# softmax_loss_naive function.\n",
    "\n",
    "from cs231n.classifiers.softmax import softmax_loss_naive\n",
    "import time\n",
    "\n",
    "# Generate a random softmax weight matrix and use it to compute the loss.\n",
    "W = np.random.randn(3073, 10) * 0.0001\n",
    "loss, grad = softmax_loss_naive(W, X_dev, y_dev, 0.0)\n",
    "\n",
    "# As a rough sanity check, our loss should be something close to -log(0.1).\n",
    "print 'loss: %f' % loss\n",
    "print 'sanity check: %f' % (-np.log(0.1))"
   ]
  },
  {
   "cell_type": "markdown",
   "metadata": {},
   "source": [
    "## Inline Question 1:\n",
    "Why do we expect our loss to be close to -log(0.1)? Explain briefly.**\n",
    "\n",
    "**Your answer:** *Fill this in*\n",
    "- class가 10개 이므로 맞을 확률이 0.1 따라서 loss 는 -log(확률) = -log(0.1)"
   ]
  },
  {
   "cell_type": "code",
   "execution_count": 18,
   "metadata": {
    "collapsed": false,
    "scrolled": true
   },
   "outputs": [
    {
     "name": "stdout",
     "output_type": "stream",
     "text": [
      "numerical: -2.475362 analytic: -2.475362, relative error: 3.039625e-09\n",
      "numerical: -4.706017 analytic: -4.706018, relative error: 1.243265e-08\n",
      "numerical: 0.582181 analytic: 0.582181, relative error: 1.322242e-07\n",
      "numerical: -1.551756 analytic: -1.551756, relative error: 1.207650e-08\n",
      "numerical: 1.761336 analytic: 1.761336, relative error: 3.336146e-08\n",
      "numerical: -1.314555 analytic: -1.314555, relative error: 1.767435e-08\n",
      "numerical: 2.247276 analytic: 2.247276, relative error: 2.591761e-08\n",
      "numerical: 0.064691 analytic: 0.064691, relative error: 5.306010e-07\n",
      "numerical: -2.497498 analytic: -2.497498, relative error: 7.105990e-09\n",
      "numerical: 0.580678 analytic: 0.580678, relative error: 4.227029e-08\n",
      "numerical: -2.342080 analytic: -2.342080, relative error: 1.326295e-08\n",
      "numerical: -0.969714 analytic: -0.969714, relative error: 1.705207e-08\n",
      "numerical: 1.930381 analytic: 1.930381, relative error: 2.286036e-08\n",
      "numerical: 2.561931 analytic: 2.561931, relative error: 1.940514e-08\n",
      "numerical: -1.872938 analytic: -1.872938, relative error: 6.055031e-11\n",
      "numerical: -1.073141 analytic: -1.073141, relative error: 1.682075e-08\n",
      "numerical: 0.574664 analytic: 0.574664, relative error: 2.909112e-08\n",
      "numerical: -1.833551 analytic: -1.833551, relative error: 7.709036e-09\n",
      "numerical: -5.535635 analytic: -5.535635, relative error: 2.906978e-09\n",
      "numerical: -2.162896 analytic: -2.162896, relative error: 1.459778e-09\n"
     ]
    }
   ],
   "source": [
    "# Complete the implementation of softmax_loss_naive and implement a (naive)\n",
    "# version of the gradient that uses nested loops.\n",
    "loss, grad = softmax_loss_naive(W, X_dev, y_dev, 0.0)\n",
    "\n",
    "# As we did for the SVM, use numeric gradient checking as a debugging tool.\n",
    "# The numeric gradient should be close to the analytic gradient.\n",
    "from cs231n.gradient_check import grad_check_sparse\n",
    "f = lambda w: softmax_loss_naive(w, X_dev, y_dev, 0.0)[0]\n",
    "grad_numerical = grad_check_sparse(f, W, grad, 10)\n",
    "\n",
    "# similar to SVM case, do another gradient check with regularization\n",
    "loss, grad = softmax_loss_naive(W, X_dev, y_dev, 1e2)\n",
    "f = lambda w: softmax_loss_naive(w, X_dev, y_dev, 1e2)[0]\n",
    "grad_numerical = grad_check_sparse(f, W, grad, 10)"
   ]
  },
  {
   "cell_type": "code",
   "execution_count": 41,
   "metadata": {
    "collapsed": false,
    "scrolled": false
   },
   "outputs": [
    {
     "name": "stdout",
     "output_type": "stream",
     "text": [
      "naive loss: 2.314956e+00 computed in 0.195000s\n",
      "vectorized loss: 2.314956e+00 computed in 0.007000s\n",
      "Loss difference: 0.000000\n",
      "Gradient difference: 0.000000\n"
     ]
    }
   ],
   "source": [
    "# Now that we have a naive implementation of the softmax loss function and its gradient,\n",
    "# implement a vectorized version in softmax_loss_vectorized.\n",
    "# The two versions should compute the same results, but the vectorized version should be\n",
    "# much faster.\n",
    "tic = time.time()\n",
    "loss_naive, grad_naive = softmax_loss_naive(W, X_dev, y_dev, 0.00001)\n",
    "toc = time.time()\n",
    "print 'naive loss: %e computed in %fs' % (loss_naive, toc - tic)\n",
    "\n",
    "from cs231n.classifiers.softmax import softmax_loss_vectorized\n",
    "tic = time.time()\n",
    "loss_vectorized, grad_vectorized = softmax_loss_vectorized(W, X_dev, y_dev, 0.00001)\n",
    "toc = time.time()\n",
    "print 'vectorized loss: %e computed in %fs' % (loss_vectorized, toc - tic)\n",
    "\n",
    "# As we did for the SVM, we use the Frobenius norm to compare the two versions\n",
    "# of the gradient.\n",
    "grad_difference = np.linalg.norm(grad_naive - grad_vectorized, ord='fro')\n",
    "print 'Loss difference: %f' % np.abs(loss_naive - loss_vectorized)\n",
    "print 'Gradient difference: %f' % grad_difference"
   ]
  },
  {
   "cell_type": "code",
   "execution_count": 45,
   "metadata": {
    "collapsed": false,
    "scrolled": false
   },
   "outputs": [
    {
     "name": "stdout",
     "output_type": "stream",
     "text": [
      "lr 1.000000e-07 reg 1.000000e+03 train accuracy: 0.250592 val accuracy: 0.249000 best_val: 0.249000\n",
      "lr 1.000000e-07 reg 3.000000e+03 train accuracy: 0.273857 val accuracy: 0.274000 best_val: 0.274000\n",
      "lr 1.000000e-07 reg 5.000000e+03 train accuracy: 0.292122 val accuracy: 0.298000 best_val: 0.298000\n",
      "lr 1.000000e-07 reg 7.000000e+03 train accuracy: 0.307592 val accuracy: 0.305000 best_val: 0.305000\n",
      "lr 1.000000e-07 reg 1.000000e+04 train accuracy: 0.333694 val accuracy: 0.338000 best_val: 0.338000\n",
      "lr 1.000000e-07 reg 3.000000e+04 train accuracy: 0.347878 val accuracy: 0.359000 best_val: 0.359000\n",
      "lr 1.000000e-07 reg 5.000000e+04 train accuracy: 0.330388 val accuracy: 0.337000 best_val: 0.359000\n",
      "lr 3.000000e-07 reg 1.000000e+03 train accuracy: 0.327878 val accuracy: 0.321000 best_val: 0.359000\n",
      "lr 3.000000e-07 reg 3.000000e+03 train accuracy: 0.371041 val accuracy: 0.369000 best_val: 0.369000\n",
      "lr 3.000000e-07 reg 5.000000e+03 train accuracy: 0.386041 val accuracy: 0.391000 best_val: 0.391000\n",
      "lr 3.000000e-07 reg 7.000000e+03 train accuracy: 0.380837 val accuracy: 0.394000 best_val: 0.394000\n",
      "lr 3.000000e-07 reg 1.000000e+04 train accuracy: 0.373959 val accuracy: 0.387000 best_val: 0.394000\n",
      "lr 3.000000e-07 reg 3.000000e+04 train accuracy: 0.348082 val accuracy: 0.354000 best_val: 0.394000\n",
      "lr 3.000000e-07 reg 5.000000e+04 train accuracy: 0.323041 val accuracy: 0.348000 best_val: 0.394000\n",
      "lr 5.000000e-07 reg 1.000000e+03 train accuracy: 0.361408 val accuracy: 0.353000 best_val: 0.394000\n",
      "lr 5.000000e-07 reg 3.000000e+03 train accuracy: 0.387122 val accuracy: 0.389000 best_val: 0.394000\n",
      "lr 5.000000e-07 reg 5.000000e+03 train accuracy: 0.389714 val accuracy: 0.391000 best_val: 0.394000\n",
      "lr 5.000000e-07 reg 7.000000e+03 train accuracy: 0.383694 val accuracy: 0.390000 best_val: 0.394000\n",
      "lr 5.000000e-07 reg 1.000000e+04 train accuracy: 0.373898 val accuracy: 0.382000 best_val: 0.394000\n",
      "lr 5.000000e-07 reg 3.000000e+04 train accuracy: 0.333898 val accuracy: 0.354000 best_val: 0.394000\n",
      "lr 5.000000e-07 reg 5.000000e+04 train accuracy: 0.327061 val accuracy: 0.341000 best_val: 0.394000\n",
      "lr 7.000000e-07 reg 1.000000e+03 train accuracy: 0.388918 val accuracy: 0.377000 best_val: 0.394000\n",
      "lr 7.000000e-07 reg 3.000000e+03 train accuracy: 0.396592 val accuracy: 0.404000 best_val: 0.404000\n",
      "lr 7.000000e-07 reg 5.000000e+03 train accuracy: 0.386918 val accuracy: 0.393000 best_val: 0.404000\n",
      "lr 7.000000e-07 reg 7.000000e+03 train accuracy: 0.377857 val accuracy: 0.395000 best_val: 0.404000\n",
      "lr 7.000000e-07 reg 1.000000e+04 train accuracy: 0.371837 val accuracy: 0.380000 best_val: 0.404000\n",
      "lr 7.000000e-07 reg 3.000000e+04 train accuracy: 0.342592 val accuracy: 0.357000 best_val: 0.404000\n",
      "lr 7.000000e-07 reg 5.000000e+04 train accuracy: 0.325204 val accuracy: 0.338000 best_val: 0.404000\n",
      "lr 1.000000e-06 reg 1.000000e+03 train accuracy: 0.401408 val accuracy: 0.391000 best_val: 0.404000\n",
      "lr 1.000000e-06 reg 3.000000e+03 train accuracy: 0.389469 val accuracy: 0.400000 best_val: 0.404000\n",
      "lr 1.000000e-06 reg 5.000000e+03 train accuracy: 0.380163 val accuracy: 0.393000 best_val: 0.404000\n",
      "lr 1.000000e-06 reg 7.000000e+03 train accuracy: 0.380163 val accuracy: 0.385000 best_val: 0.404000\n",
      "lr 1.000000e-06 reg 1.000000e+04 train accuracy: 0.365612 val accuracy: 0.381000 best_val: 0.404000\n",
      "lr 1.000000e-06 reg 3.000000e+04 train accuracy: 0.340061 val accuracy: 0.344000 best_val: 0.404000\n",
      "lr 1.000000e-06 reg 5.000000e+04 train accuracy: 0.311673 val accuracy: 0.342000 best_val: 0.404000\n",
      "lr 3.000000e-06 reg 1.000000e+03 train accuracy: 0.393469 val accuracy: 0.393000 best_val: 0.404000\n",
      "lr 3.000000e-06 reg 3.000000e+03 train accuracy: 0.369224 val accuracy: 0.368000 best_val: 0.404000\n",
      "lr 3.000000e-06 reg 5.000000e+03 train accuracy: 0.355816 val accuracy: 0.356000 best_val: 0.404000\n",
      "lr 3.000000e-06 reg 7.000000e+03 train accuracy: 0.361367 val accuracy: 0.350000 best_val: 0.404000\n",
      "lr 3.000000e-06 reg 1.000000e+04 train accuracy: 0.357653 val accuracy: 0.358000 best_val: 0.404000\n",
      "lr 3.000000e-06 reg 3.000000e+04 train accuracy: 0.301020 val accuracy: 0.315000 best_val: 0.404000\n",
      "lr 3.000000e-06 reg 5.000000e+04 train accuracy: 0.276776 val accuracy: 0.278000 best_val: 0.404000\n",
      "lr 1.000000e-07 reg 1.000000e+03 train accuracy: 0.250592 val accuracy: 0.249000\n",
      "lr 1.000000e-07 reg 3.000000e+03 train accuracy: 0.273857 val accuracy: 0.274000\n",
      "lr 1.000000e-07 reg 5.000000e+03 train accuracy: 0.292122 val accuracy: 0.298000\n",
      "lr 1.000000e-07 reg 7.000000e+03 train accuracy: 0.307592 val accuracy: 0.305000\n",
      "lr 1.000000e-07 reg 1.000000e+04 train accuracy: 0.333694 val accuracy: 0.338000\n",
      "lr 1.000000e-07 reg 3.000000e+04 train accuracy: 0.347878 val accuracy: 0.359000\n",
      "lr 1.000000e-07 reg 5.000000e+04 train accuracy: 0.330388 val accuracy: 0.337000\n",
      "lr 3.000000e-07 reg 1.000000e+03 train accuracy: 0.327878 val accuracy: 0.321000\n",
      "lr 3.000000e-07 reg 3.000000e+03 train accuracy: 0.371041 val accuracy: 0.369000\n",
      "lr 3.000000e-07 reg 5.000000e+03 train accuracy: 0.386041 val accuracy: 0.391000\n",
      "lr 3.000000e-07 reg 7.000000e+03 train accuracy: 0.380837 val accuracy: 0.394000\n",
      "lr 3.000000e-07 reg 1.000000e+04 train accuracy: 0.373959 val accuracy: 0.387000\n",
      "lr 3.000000e-07 reg 3.000000e+04 train accuracy: 0.348082 val accuracy: 0.354000\n",
      "lr 3.000000e-07 reg 5.000000e+04 train accuracy: 0.323041 val accuracy: 0.348000\n",
      "lr 5.000000e-07 reg 1.000000e+03 train accuracy: 0.361408 val accuracy: 0.353000\n",
      "lr 5.000000e-07 reg 3.000000e+03 train accuracy: 0.387122 val accuracy: 0.389000\n",
      "lr 5.000000e-07 reg 5.000000e+03 train accuracy: 0.389714 val accuracy: 0.391000\n",
      "lr 5.000000e-07 reg 7.000000e+03 train accuracy: 0.383694 val accuracy: 0.390000\n",
      "lr 5.000000e-07 reg 1.000000e+04 train accuracy: 0.373898 val accuracy: 0.382000\n",
      "lr 5.000000e-07 reg 3.000000e+04 train accuracy: 0.333898 val accuracy: 0.354000\n",
      "lr 5.000000e-07 reg 5.000000e+04 train accuracy: 0.327061 val accuracy: 0.341000\n",
      "lr 7.000000e-07 reg 1.000000e+03 train accuracy: 0.388918 val accuracy: 0.377000\n",
      "lr 7.000000e-07 reg 3.000000e+03 train accuracy: 0.396592 val accuracy: 0.404000\n",
      "lr 7.000000e-07 reg 5.000000e+03 train accuracy: 0.386918 val accuracy: 0.393000\n",
      "lr 7.000000e-07 reg 7.000000e+03 train accuracy: 0.377857 val accuracy: 0.395000\n",
      "lr 7.000000e-07 reg 1.000000e+04 train accuracy: 0.371837 val accuracy: 0.380000\n",
      "lr 7.000000e-07 reg 3.000000e+04 train accuracy: 0.342592 val accuracy: 0.357000\n",
      "lr 7.000000e-07 reg 5.000000e+04 train accuracy: 0.325204 val accuracy: 0.338000\n",
      "lr 1.000000e-06 reg 1.000000e+03 train accuracy: 0.401408 val accuracy: 0.391000\n",
      "lr 1.000000e-06 reg 3.000000e+03 train accuracy: 0.389469 val accuracy: 0.400000\n",
      "lr 1.000000e-06 reg 5.000000e+03 train accuracy: 0.380163 val accuracy: 0.393000\n",
      "lr 1.000000e-06 reg 7.000000e+03 train accuracy: 0.380163 val accuracy: 0.385000\n",
      "lr 1.000000e-06 reg 1.000000e+04 train accuracy: 0.365612 val accuracy: 0.381000\n",
      "lr 1.000000e-06 reg 3.000000e+04 train accuracy: 0.340061 val accuracy: 0.344000\n",
      "lr 1.000000e-06 reg 5.000000e+04 train accuracy: 0.311673 val accuracy: 0.342000\n",
      "lr 3.000000e-06 reg 1.000000e+03 train accuracy: 0.393469 val accuracy: 0.393000\n",
      "lr 3.000000e-06 reg 3.000000e+03 train accuracy: 0.369224 val accuracy: 0.368000\n",
      "lr 3.000000e-06 reg 5.000000e+03 train accuracy: 0.355816 val accuracy: 0.356000\n",
      "lr 3.000000e-06 reg 7.000000e+03 train accuracy: 0.361367 val accuracy: 0.350000\n",
      "lr 3.000000e-06 reg 1.000000e+04 train accuracy: 0.357653 val accuracy: 0.358000\n",
      "lr 3.000000e-06 reg 3.000000e+04 train accuracy: 0.301020 val accuracy: 0.315000\n",
      "lr 3.000000e-06 reg 5.000000e+04 train accuracy: 0.276776 val accuracy: 0.278000\n",
      "best validation accuracy achieved during cross-validation: 0.404000\n"
     ]
    }
   ],
   "source": [
    "# Use the validation set to tune hyperparameters (regularization strength and\n",
    "# learning rate). You should experiment with different ranges for the learning\n",
    "# rates and regularization strengths; if you are careful you should be able to\n",
    "# get a classification accuracy of over 0.35 on the validation set.\n",
    "from cs231n.classifiers import Softmax\n",
    "results = {}\n",
    "best_val = -1\n",
    "best_softmax = None\n",
    "\n",
    "#learning_rates = [1e-7, 5e-7, 1e-6, 3e-6, 5e-6, 1e-5, 1e-4]\n",
    "#regularization_strengths = [1e3, 5e3, 1e4, 5e4, 1e5, 1e6]\n",
    "\n",
    "learning_rates = [1e-7, 3e-7, 5e-7, 7e-7, 1e-6, 3e-6]\n",
    "regularization_strengths = [1e3, 3e3, 5e3, 7e3, 1e4, 3e4, 5e4]\n",
    "\n",
    "################################################################################\n",
    "# TODO:                                                                        #\n",
    "# Use the validation set to set the learning rate and regularization strength. #\n",
    "# This should be identical to the validation that you did for the SVM; save    #\n",
    "# the best trained softmax classifer in best_softmax.                          #\n",
    "################################################################################\n",
    "for lr in learning_rates:\n",
    "    for reg in regularization_strengths:\n",
    "        svm_cur = Softmax()\n",
    "        loss_hist_cur = svm_cur.train(X_train, y_train, learning_rate=lr, reg=reg,\n",
    "                              num_iters=1500, verbose=False)\n",
    "        y_train_pred_cur = svm_cur.predict(X_train)\n",
    "        train_accuracy = np.mean(y_train == y_train_pred_cur)\n",
    "        y_val_pred_cur = svm_cur.predict(X_val)\n",
    "        val_accuracy = np.mean(y_val == y_val_pred_cur)        \n",
    "        results[lr,reg] = (train_accuracy, val_accuracy)\n",
    "        \n",
    "        if (best_val < val_accuracy):\n",
    "            best_val = val_accuracy\n",
    "            best_svm = svm_cur\n",
    "        print 'lr %e reg %e train accuracy: %f val accuracy: %f best_val: %f' % (\n",
    "                    lr, reg, train_accuracy, val_accuracy, best_val)\n",
    "        \n",
    "################################################################################\n",
    "#                              END OF YOUR CODE                                #\n",
    "################################################################################\n",
    "    \n",
    "# Print out results.\n",
    "for lr, reg in sorted(results):\n",
    "    train_accuracy, val_accuracy = results[(lr, reg)]\n",
    "    print 'lr %e reg %e train accuracy: %f val accuracy: %f' % (\n",
    "                lr, reg, train_accuracy, val_accuracy)\n",
    "    \n",
    "print 'best validation accuracy achieved during cross-validation: %f' % best_val"
   ]
  },
  {
   "cell_type": "code",
   "execution_count": null,
   "metadata": {
    "collapsed": false,
    "scrolled": false
   },
   "outputs": [],
   "source": [
    "# evaluate on test set\n",
    "# Evaluate the best softmax on test set\n",
    "y_test_pred = best_softmax.predict(X_test)\n",
    "test_accuracy = np.mean(y_test == y_test_pred)\n",
    "print 'softmax on raw pixels final test set accuracy: %f' % (test_accuracy, )"
   ]
  },
  {
   "cell_type": "code",
   "execution_count": null,
   "metadata": {
    "collapsed": false,
    "scrolled": false
   },
   "outputs": [],
   "source": [
    "# Visualize the learned weights for each class\n",
    "w = best_softmax.W[:-1,:] # strip out the bias\n",
    "w = w.reshape(32, 32, 3, 10)\n",
    "\n",
    "w_min, w_max = np.min(w), np.max(w)\n",
    "\n",
    "classes = ['plane', 'car', 'bird', 'cat', 'deer', 'dog', 'frog', 'horse', 'ship', 'truck']\n",
    "for i in xrange(10):\n",
    "  plt.subplot(2, 5, i + 1)\n",
    "  \n",
    "  # Rescale the weights to be between 0 and 255\n",
    "  wimg = 255.0 * (w[:, :, :, i].squeeze() - w_min) / (w_max - w_min)\n",
    "  plt.imshow(wimg.astype('uint8'))\n",
    "  plt.axis('off')\n",
    "  plt.title(classes[i])"
   ]
  }
 ],
 "metadata": {
  "anaconda-cloud": {},
  "kernelspec": {
   "display_name": "Python [Root]",
   "language": "python",
   "name": "Python [Root]"
  },
  "language_info": {
   "codemirror_mode": {
    "name": "ipython",
    "version": 2
   },
   "file_extension": ".py",
   "mimetype": "text/x-python",
   "name": "python",
   "nbconvert_exporter": "python",
   "pygments_lexer": "ipython2",
   "version": "2.7.12"
  }
 },
 "nbformat": 4,
 "nbformat_minor": 0
}
